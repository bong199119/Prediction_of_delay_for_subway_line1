{
 "cells": [
  {
   "cell_type": "code",
   "execution_count": 6,
   "metadata": {
    "colab": {
     "base_uri": "https://localhost:8080/",
     "height": 90
    },
    "colab_type": "code",
    "executionInfo": {
     "elapsed": 1095,
     "status": "ok",
     "timestamp": 1583433923905,
     "user": {
      "displayName": "최승희",
      "photoUrl": "",
      "userId": "06402592860984448418"
     },
     "user_tz": -540
    },
    "id": "3XLDsOuLCmTZ",
    "outputId": "73ad6cd8-b77f-41e8-fa0e-7af95f99a03d"
   },
   "outputs": [],
   "source": [
    "import pandas as pd\n",
    "import numpy as np\n",
    "\n",
    "import seaborn as sns\n",
    "\n",
    "from statsmodels.graphics.mosaicplot import mosaic\n",
    "import matplotlib.pyplot as plt\n",
    "%matplotlib inline"
   ]
  },
  {
   "cell_type": "code",
   "execution_count": 125,
   "metadata": {},
   "outputs": [],
   "source": [
    "import statsmodels.api as sm\n",
    "import statsmodels.formula.api as smf"
   ]
  },
  {
   "cell_type": "code",
   "execution_count": 8,
   "metadata": {
    "colab": {
     "base_uri": "https://localhost:8080/",
     "height": 417
    },
    "colab_type": "code",
    "executionInfo": {
     "elapsed": 35272,
     "status": "ok",
     "timestamp": 1583433959577,
     "user": {
      "displayName": "최승희",
      "photoUrl": "",
      "userId": "06402592860984448418"
     },
     "user_tz": -540
    },
    "id": "XGaXZb3zCmTm",
    "outputId": "402b27a8-a7a7-4625-d7e0-9b613bd849bf",
    "scrolled": true
   },
   "outputs": [
    {
     "data": {
      "text/html": [
       "<div>\n",
       "<style scoped>\n",
       "    .dataframe tbody tr th:only-of-type {\n",
       "        vertical-align: middle;\n",
       "    }\n",
       "\n",
       "    .dataframe tbody tr th {\n",
       "        vertical-align: top;\n",
       "    }\n",
       "\n",
       "    .dataframe thead th {\n",
       "        text-align: right;\n",
       "    }\n",
       "</style>\n",
       "<table border=\"1\" class=\"dataframe\">\n",
       "  <thead>\n",
       "    <tr style=\"text-align: right;\">\n",
       "      <th></th>\n",
       "      <th>운행일자</th>\n",
       "      <th>요일</th>\n",
       "      <th>열차번호</th>\n",
       "      <th>역</th>\n",
       "      <th>출도착구분</th>\n",
       "      <th>역간소요시간</th>\n",
       "      <th>급행여부</th>\n",
       "      <th>환승가능</th>\n",
       "      <th>출발행</th>\n",
       "      <th>종착행</th>\n",
       "      <th>...</th>\n",
       "      <th>현지기압(hPa)</th>\n",
       "      <th>현지기압 QC플래그</th>\n",
       "      <th>해면기압(hPa)</th>\n",
       "      <th>해면기압 QC플래그</th>\n",
       "      <th>일조 QC플래그</th>\n",
       "      <th>전운량(10분위)</th>\n",
       "      <th>중하층운량(10분위)</th>\n",
       "      <th>시정(10m)</th>\n",
       "      <th>지면온도(°C)</th>\n",
       "      <th>지면온도 QC플래그</th>\n",
       "    </tr>\n",
       "  </thead>\n",
       "  <tbody>\n",
       "    <tr>\n",
       "      <td>0</td>\n",
       "      <td>20191101</td>\n",
       "      <td>금</td>\n",
       "      <td>K1907</td>\n",
       "      <td>수원</td>\n",
       "      <td>정차</td>\n",
       "      <td>7.0</td>\n",
       "      <td>1</td>\n",
       "      <td>2</td>\n",
       "      <td>용산</td>\n",
       "      <td>천안</td>\n",
       "      <td>...</td>\n",
       "      <td>1025.3</td>\n",
       "      <td>0.0</td>\n",
       "      <td>1029.5</td>\n",
       "      <td>0.0</td>\n",
       "      <td>0.0</td>\n",
       "      <td>0.0</td>\n",
       "      <td>0.0</td>\n",
       "      <td>1195.0</td>\n",
       "      <td>11.5</td>\n",
       "      <td>0.0</td>\n",
       "    </tr>\n",
       "    <tr>\n",
       "      <td>1</td>\n",
       "      <td>20191101</td>\n",
       "      <td>금</td>\n",
       "      <td>K1907</td>\n",
       "      <td>수원</td>\n",
       "      <td>정차</td>\n",
       "      <td>7.0</td>\n",
       "      <td>1</td>\n",
       "      <td>2</td>\n",
       "      <td>용산</td>\n",
       "      <td>천안</td>\n",
       "      <td>...</td>\n",
       "      <td>1025.3</td>\n",
       "      <td>0.0</td>\n",
       "      <td>1029.5</td>\n",
       "      <td>0.0</td>\n",
       "      <td>0.0</td>\n",
       "      <td>0.0</td>\n",
       "      <td>0.0</td>\n",
       "      <td>1195.0</td>\n",
       "      <td>11.5</td>\n",
       "      <td>0.0</td>\n",
       "    </tr>\n",
       "    <tr>\n",
       "      <td>2</td>\n",
       "      <td>20191101</td>\n",
       "      <td>금</td>\n",
       "      <td>K1907</td>\n",
       "      <td>수원</td>\n",
       "      <td>정차</td>\n",
       "      <td>7.0</td>\n",
       "      <td>1</td>\n",
       "      <td>2</td>\n",
       "      <td>용산</td>\n",
       "      <td>천안</td>\n",
       "      <td>...</td>\n",
       "      <td>1025.3</td>\n",
       "      <td>0.0</td>\n",
       "      <td>1029.5</td>\n",
       "      <td>0.0</td>\n",
       "      <td>0.0</td>\n",
       "      <td>0.0</td>\n",
       "      <td>0.0</td>\n",
       "      <td>1195.0</td>\n",
       "      <td>11.5</td>\n",
       "      <td>0.0</td>\n",
       "    </tr>\n",
       "    <tr>\n",
       "      <td>3</td>\n",
       "      <td>20191101</td>\n",
       "      <td>금</td>\n",
       "      <td>K1907</td>\n",
       "      <td>수원</td>\n",
       "      <td>정차</td>\n",
       "      <td>7.0</td>\n",
       "      <td>1</td>\n",
       "      <td>2</td>\n",
       "      <td>용산</td>\n",
       "      <td>천안</td>\n",
       "      <td>...</td>\n",
       "      <td>1025.3</td>\n",
       "      <td>0.0</td>\n",
       "      <td>1029.5</td>\n",
       "      <td>0.0</td>\n",
       "      <td>0.0</td>\n",
       "      <td>0.0</td>\n",
       "      <td>0.0</td>\n",
       "      <td>1195.0</td>\n",
       "      <td>11.5</td>\n",
       "      <td>0.0</td>\n",
       "    </tr>\n",
       "    <tr>\n",
       "      <td>4</td>\n",
       "      <td>20191101</td>\n",
       "      <td>금</td>\n",
       "      <td>K1907</td>\n",
       "      <td>세류</td>\n",
       "      <td>통과</td>\n",
       "      <td>2.5</td>\n",
       "      <td>1</td>\n",
       "      <td>0</td>\n",
       "      <td>용산</td>\n",
       "      <td>천안</td>\n",
       "      <td>...</td>\n",
       "      <td>1025.3</td>\n",
       "      <td>0.0</td>\n",
       "      <td>1029.5</td>\n",
       "      <td>0.0</td>\n",
       "      <td>0.0</td>\n",
       "      <td>0.0</td>\n",
       "      <td>0.0</td>\n",
       "      <td>1195.0</td>\n",
       "      <td>11.5</td>\n",
       "      <td>0.0</td>\n",
       "    </tr>\n",
       "  </tbody>\n",
       "</table>\n",
       "<p>5 rows × 35 columns</p>\n",
       "</div>"
      ],
      "text/plain": [
       "       운행일자 요일   열차번호   역 출도착구분  역간소요시간  급행여부  환승가능 출발행 종착행  ... 현지기압(hPa)  \\\n",
       "0  20191101  금  K1907  수원    정차     7.0     1     2  용산  천안  ...    1025.3   \n",
       "1  20191101  금  K1907  수원    정차     7.0     1     2  용산  천안  ...    1025.3   \n",
       "2  20191101  금  K1907  수원    정차     7.0     1     2  용산  천안  ...    1025.3   \n",
       "3  20191101  금  K1907  수원    정차     7.0     1     2  용산  천안  ...    1025.3   \n",
       "4  20191101  금  K1907  세류    통과     2.5     1     0  용산  천안  ...    1025.3   \n",
       "\n",
       "   현지기압 QC플래그 해면기압(hPa)  해면기압 QC플래그  일조 QC플래그  전운량(10분위)  중하층운량(10분위)  \\\n",
       "0         0.0    1029.5         0.0       0.0        0.0          0.0   \n",
       "1         0.0    1029.5         0.0       0.0        0.0          0.0   \n",
       "2         0.0    1029.5         0.0       0.0        0.0          0.0   \n",
       "3         0.0    1029.5         0.0       0.0        0.0          0.0   \n",
       "4         0.0    1029.5         0.0       0.0        0.0          0.0   \n",
       "\n",
       "   시정(10m)  지면온도(°C)  지면온도 QC플래그  \n",
       "0   1195.0      11.5         0.0  \n",
       "1   1195.0      11.5         0.0  \n",
       "2   1195.0      11.5         0.0  \n",
       "3   1195.0      11.5         0.0  \n",
       "4   1195.0      11.5         0.0  \n",
       "\n",
       "[5 rows x 35 columns]"
      ]
     },
     "execution_count": 8,
     "metadata": {},
     "output_type": "execute_result"
    }
   ],
   "source": [
    "data = pd.read_csv('total_dataset.csv')\n",
    "data.head()"
   ]
  },
  {
   "cell_type": "code",
   "execution_count": 33,
   "metadata": {},
   "outputs": [],
   "source": [
    "# train 데이터만 가져오기\n",
    "data = data[data['운행일자'] <= 20191124]"
   ]
  },
  {
   "cell_type": "code",
   "execution_count": 17,
   "metadata": {},
   "outputs": [
    {
     "data": {
      "text/plain": [
       "['Gulim']"
      ]
     },
     "execution_count": 17,
     "metadata": {},
     "output_type": "execute_result"
    }
   ],
   "source": [
    "# 그래프에서 마이너스 폰트 깨지는 문제에 대한 대처\n",
    "plt.rcParams['axes.unicode_minus'] = False\n",
    "\n",
    "plt.rcParams['font.family'] = 'Gulim'\n",
    "# plt.rcParams['font.family'] = 'Malgun Gothic'\n",
    "plt.rcParams[\"font.family\"]"
   ]
  },
  {
   "cell_type": "markdown",
   "metadata": {},
   "source": [
    "# 지연"
   ]
  },
  {
   "cell_type": "markdown",
   "metadata": {},
   "source": [
    "지연이란, 실제도착시간 - 계획도착시간 $>=$ 1분"
   ]
  },
  {
   "cell_type": "code",
   "execution_count": 34,
   "metadata": {},
   "outputs": [
    {
     "data": {
      "text/plain": [
       "True     4336221\n",
       "False    2264620\n",
       "Name: 지연여부, dtype: int64"
      ]
     },
     "execution_count": 34,
     "metadata": {},
     "output_type": "execute_result"
    }
   ],
   "source": [
    "data['지연여부'].value_counts()"
   ]
  },
  {
   "cell_type": "code",
   "execution_count": 35,
   "metadata": {
    "scrolled": true
   },
   "outputs": [
    {
     "name": "stderr",
     "output_type": "stream",
     "text": [
      "C:\\Users\\seung\\Anaconda3\\lib\\site-packages\\ipykernel_launcher.py:1: FutureWarning: `Series.plot()` should not be called with positional arguments, only keyword arguments. The order of positional arguments will change in the future. Use `Series.plot(kind='bar')` instead of `Series.plot('bar',)`.\n",
      "  \"\"\"Entry point for launching an IPython kernel.\n"
     ]
    },
    {
     "data": {
      "text/plain": [
       "<matplotlib.axes._subplots.AxesSubplot at 0x275fafaa288>"
      ]
     },
     "execution_count": 35,
     "metadata": {},
     "output_type": "execute_result"
    },
    {
     "data": {
      "image/png": "[encoded data removed]",
      "text/plain": [
       "<Figure size 432x288 with 1 Axes>"
      ]
     },
     "metadata": {
      "needs_background": "light"
     },
     "output_type": "display_data"
    }
   ],
   "source": [
    "data['지연여부'].value_counts(normalize = True).plot('bar')"
   ]
  },
  {
   "cell_type": "markdown",
   "metadata": {},
   "source": [
    "지연이 일어나는 경우가 지연이 아닌 경우보다 많다 --> 불균형 데이터"
   ]
  },
  {
   "cell_type": "markdown",
   "metadata": {},
   "source": [
    "# 요일과 지연"
   ]
  },
  {
   "cell_type": "markdown",
   "metadata": {},
   "source": [
    "- 요일 vs 총 지연수"
   ]
  },
  {
   "cell_type": "code",
   "execution_count": 36,
   "metadata": {
    "colab": {
     "base_uri": "https://localhost:8080/",
     "height": 352
    },
    "colab_type": "code",
    "executionInfo": {
     "elapsed": 34822,
     "status": "ok",
     "timestamp": 1583433960117,
     "user": {
      "displayName": "최승희",
      "photoUrl": "",
      "userId": "06402592860984448418"
     },
     "user_tz": -540
    },
    "id": "mYg3wLzi6QL1",
    "outputId": "e7c0b9c9-1f69-477c-e850-cf517847982b",
    "scrolled": true
   },
   "outputs": [
    {
     "name": "stderr",
     "output_type": "stream",
     "text": [
      "C:\\Users\\seung\\Anaconda3\\lib\\site-packages\\ipykernel_launcher.py:1: FutureWarning: `Series.plot()` should not be called with positional arguments, only keyword arguments. The order of positional arguments will change in the future. Use `Series.plot(kind='bar')` instead of `Series.plot('bar',)`.\n",
      "  \"\"\"Entry point for launching an IPython kernel.\n"
     ]
    },
    {
     "data": {
      "text/plain": [
       "<matplotlib.axes._subplots.AxesSubplot at 0x2761309ca88>"
      ]
     },
     "execution_count": 36,
     "metadata": {},
     "output_type": "execute_result"
    },
    {
     "data": {
      "image/png": "[encoded data removed]",
      "text/plain": [
       "<Figure size 432x288 with 1 Axes>"
      ]
     },
     "metadata": {
      "needs_background": "light"
     },
     "output_type": "display_data"
    }
   ],
   "source": [
    "data.groupby('요일')['지연여부'].sum().sort_values(ascending = False).plot('bar', title = '요일 vs 총 지연수')"
   ]
  },
  {
   "cell_type": "markdown",
   "metadata": {},
   "source": [
    "- 요일 vs 지연 비율"
   ]
  },
  {
   "cell_type": "code",
   "execution_count": 37,
   "metadata": {
    "colab": {
     "base_uri": "https://localhost:8080/",
     "height": 352
    },
    "colab_type": "code",
    "executionInfo": {
     "elapsed": 1950,
     "status": "ok",
     "timestamp": 1583436089111,
     "user": {
      "displayName": "최승희",
      "photoUrl": "",
      "userId": "06402592860984448418"
     },
     "user_tz": -540
    },
    "id": "-QW16Nv2JQUb",
    "outputId": "81a69765-9ce6-4ec1-d7b7-4a61ef69bd3a",
    "scrolled": true
   },
   "outputs": [
    {
     "name": "stderr",
     "output_type": "stream",
     "text": [
      "C:\\Users\\seung\\Anaconda3\\lib\\site-packages\\ipykernel_launcher.py:1: FutureWarning: `Series.plot()` should not be called with positional arguments, only keyword arguments. The order of positional arguments will change in the future. Use `Series.plot(kind='bar')` instead of `Series.plot('bar',)`.\n",
      "  \"\"\"Entry point for launching an IPython kernel.\n"
     ]
    },
    {
     "data": {
      "text/plain": [
       "<matplotlib.axes._subplots.AxesSubplot at 0x275f9de5388>"
      ]
     },
     "execution_count": 37,
     "metadata": {},
     "output_type": "execute_result"
    },
    {
     "data": {
      "image/png": "[encoded data removed]",
      "text/plain": [
       "<Figure size 432x288 with 1 Axes>"
      ]
     },
     "metadata": {
      "needs_background": "light"
     },
     "output_type": "display_data"
    }
   ],
   "source": [
    "(data.groupby(['요일'])['지연여부'].sum().sort_index()/data['요일'].value_counts().sort_index()).sort_values(ascending = False)[:50].plot('bar', title = '요일 vs 지연 비율')"
   ]
  },
  {
   "cell_type": "markdown",
   "metadata": {},
   "source": [
    "총 지연수와 지연 비율을 살펴본 결과 주중의 마지막날인 금요일에 지연이 많이 일어나는 것을 확인할 수 있었다.\n",
    "\n",
    "금요일과 반대로 한주의 시작을 알리는 '월요일'은 상대적으로 적음을 알 수 있다."
   ]
  },
  {
   "cell_type": "markdown",
   "metadata": {},
   "source": [
    "- 모자이크 플랏"
   ]
  },
  {
   "cell_type": "code",
   "execution_count": 67,
   "metadata": {},
   "outputs": [
    {
     "data": {
      "text/plain": [
       "(<Figure size 432x288 with 3 Axes>,\n",
       " OrderedDict([(('금', 'True'),\n",
       "               (0.0, 0.0, 0.16265035413117696, 0.7281310794269104)),\n",
       "              (('금', 'False'),\n",
       "               (0.0,\n",
       "                0.7314533385631229,\n",
       "                0.16265035413117696,\n",
       "                0.26854666143687694)),\n",
       "              (('토', 'True'),\n",
       "               (0.16750472306321582,\n",
       "                0.0,\n",
       "                0.15510321343680852,\n",
       "                0.6101303702994822)),\n",
       "              (('토', 'False'),\n",
       "               (0.16750472306321582,\n",
       "                0.6134526294356948,\n",
       "                0.15510321343680852,\n",
       "                0.38654737056430505)),\n",
       "              (('일', 'True'),\n",
       "               (0.32746230543206317,\n",
       "                0.0,\n",
       "                0.11592271024870571,\n",
       "                0.5797588640201695)),\n",
       "              (('일', 'False'),\n",
       "               (0.32746230543206317,\n",
       "                0.5830811231563822,\n",
       "                0.11592271024870571,\n",
       "                0.4169188768436178)),\n",
       "              (('월', 'True'),\n",
       "               (0.4482393846128077,\n",
       "                0.0,\n",
       "                0.13333973185114426,\n",
       "                0.6262994561168922)),\n",
       "              (('월', 'False'),\n",
       "               (0.4482393846128077,\n",
       "                0.6296217152531048,\n",
       "                0.13333973185114426,\n",
       "                0.3703782847468951)),\n",
       "              (('화', 'True'),\n",
       "               (0.5864334853959908,\n",
       "                0.0,\n",
       "                0.13516944868615244,\n",
       "                0.6710826154236232)),\n",
       "              (('화', 'False'),\n",
       "               (0.5864334853959908,\n",
       "                0.6744048745598358,\n",
       "                0.13516944868615244,\n",
       "                0.32559512544016406)),\n",
       "              (('수', 'True'),\n",
       "               (0.7264573030141821,\n",
       "                0.0,\n",
       "                0.13420090484704245,\n",
       "                0.68895110977446)),\n",
       "              (('수', 'False'),\n",
       "               (0.7264573030141821,\n",
       "                0.6922733689106726,\n",
       "                0.13420090484704245,\n",
       "                0.30772663108932735)),\n",
       "              (('목', 'True'),\n",
       "               (0.8655125767932634,\n",
       "                0.0,\n",
       "                0.1344874232067366,\n",
       "                0.659671339486565)),\n",
       "              (('목', 'False'),\n",
       "               (0.8655125767932634,\n",
       "                0.6629935986227776,\n",
       "                0.1344874232067366,\n",
       "                0.33700640137722226))]))"
      ]
     },
     "execution_count": 67,
     "metadata": {},
     "output_type": "execute_result"
    },
    {
     "data": {
      "image/png": "[encoded data removed]",
      "text/plain": [
       "<Figure size 432x288 with 3 Axes>"
      ]
     },
     "metadata": {
      "needs_background": "light"
     },
     "output_type": "display_data"
    }
   ],
   "source": [
    "mosaic(data, ['요일', '지연여부'], title='요일 vs 지연의 모자이크')"
   ]
  },
  {
   "cell_type": "markdown",
   "metadata": {},
   "source": [
    "### 요일이 지연여부에 영향을 주는가?"
   ]
  },
  {
   "cell_type": "code",
   "execution_count": 126,
   "metadata": {
    "scrolled": true
   },
   "outputs": [
    {
     "name": "stdout",
     "output_type": "stream",
     "text": [
      "                       Generalized Linear Model Regression Results                       \n",
      "=========================================================================================\n",
      "Dep. Variable:     ['지연여부[False]', '지연여부[True]']   No. Observations:              6600841\n",
      "Model:                                       GLM   Df Residuals:                  6600834\n",
      "Model Family:                           Binomial   Df Model:                            6\n",
      "Link Function:                             logit   Scale:                          1.0000\n",
      "Method:                                     IRLS   Log-Likelihood:            -4.2120e+06\n",
      "Date:                           Mon, 06 Apr 2020   Deviance:                   8.4241e+06\n",
      "Time:                                   13:22:40   Pearson chi2:                 6.60e+06\n",
      "No. Iterations:                                7                                         \n",
      "Covariance Type:                       nonrobust                                         \n",
      "==============================================================================\n",
      "                 coef    std err          z      P>|z|      [0.025      0.975]\n",
      "------------------------------------------------------------------------------\n",
      "Intercept     -0.9975      0.002   -465.371      0.000      -1.002      -0.993\n",
      "요일[T.목]        0.3258      0.003    105.816      0.000       0.320       0.332\n",
      "요일[T.수]        0.1915      0.003     61.394      0.000       0.185       0.198\n",
      "요일[T.월]        0.4722      0.003    154.678      0.000       0.466       0.478\n",
      "요일[T.일]        0.6677      0.003    213.209      0.000       0.662       0.674\n",
      "요일[T.토]        0.5410      0.003    184.620      0.000       0.535       0.547\n",
      "요일[T.화]        0.2742      0.003     88.777      0.000       0.268       0.280\n",
      "==============================================================================\n"
     ]
    }
   ],
   "source": [
    "glm_fit = smf.glm(formula='지연여부 ~ 요일', data=data, family=sm.families.Binomial()).fit()\n",
    "print(glm_fit.summary())"
   ]
  },
  {
   "cell_type": "markdown",
   "metadata": {},
   "source": [
    "요일이 지연여부에 영향을 주는 것으로 보인다"
   ]
  },
  {
   "cell_type": "markdown",
   "metadata": {},
   "source": [
    "# 열차번호와 지연"
   ]
  },
  {
   "cell_type": "markdown",
   "metadata": {},
   "source": [
    "- 열차번호 vs 총 지연수"
   ]
  },
  {
   "cell_type": "code",
   "execution_count": 38,
   "metadata": {
    "colab": {
     "base_uri": "https://localhost:8080/",
     "height": 422
    },
    "colab_type": "code",
    "executionInfo": {
     "elapsed": 35005,
     "status": "ok",
     "timestamp": 1583433961001,
     "user": {
      "displayName": "최승희",
      "photoUrl": "",
      "userId": "06402592860984448418"
     },
     "user_tz": -540
    },
    "id": "koTh8kyx6QME",
    "outputId": "018875e7-3a5a-42be-d259-4411f92e6ed4",
    "scrolled": true
   },
   "outputs": [
    {
     "name": "stderr",
     "output_type": "stream",
     "text": [
      "C:\\Users\\seung\\Anaconda3\\lib\\site-packages\\ipykernel_launcher.py:2: FutureWarning: `Series.plot()` should not be called with positional arguments, only keyword arguments. The order of positional arguments will change in the future. Use `Series.plot(kind='bar')` instead of `Series.plot('bar',)`.\n",
      "  \n"
     ]
    },
    {
     "data": {
      "text/plain": [
       "<matplotlib.axes._subplots.AxesSubplot at 0x275fa9e1dc8>"
      ]
     },
     "execution_count": 38,
     "metadata": {},
     "output_type": "execute_result"
    },
    {
     "data": {
      "image/png": "[encoded data removed]",
      "text/plain": [
       "<Figure size 720x360 with 1 Axes>"
      ]
     },
     "metadata": {
      "needs_background": "light"
     },
     "output_type": "display_data"
    }
   ],
   "source": [
    "plt.figure(figsize = (10,5))\n",
    "data.groupby('열차번호')['지연여부'].sum().sort_values(ascending = False)[:20].plot('bar', title = '열차번호 vs 총 지연수')"
   ]
  },
  {
   "cell_type": "markdown",
   "metadata": {},
   "source": [
    "- 열차번호 vs 지연 비율"
   ]
  },
  {
   "cell_type": "code",
   "execution_count": 21,
   "metadata": {
    "colab": {
     "base_uri": "https://localhost:8080/",
     "height": 427
    },
    "colab_type": "code",
    "executionInfo": {
     "elapsed": 2711,
     "status": "ok",
     "timestamp": 1583435743648,
     "user": {
      "displayName": "최승희",
      "photoUrl": "",
      "userId": "06402592860984448418"
     },
     "user_tz": -540
    },
    "id": "_r0Q5D1jH013",
    "outputId": "3de3eb8f-134a-46d0-8c2f-0b8af127e353",
    "scrolled": false
   },
   "outputs": [
    {
     "name": "stderr",
     "output_type": "stream",
     "text": [
      "C:\\Users\\seung\\Anaconda3\\lib\\site-packages\\ipykernel_launcher.py:2: FutureWarning: `Series.plot()` should not be called with positional arguments, only keyword arguments. The order of positional arguments will change in the future. Use `Series.plot(kind='bar')` instead of `Series.plot('bar',)`.\n",
      "  \n"
     ]
    },
    {
     "data": {
      "text/plain": [
       "<matplotlib.axes._subplots.AxesSubplot at 0x275f8955d48>"
      ]
     },
     "execution_count": 21,
     "metadata": {},
     "output_type": "execute_result"
    },
    {
     "data": {
      "image/png": "[encoded data removed]",
      "text/plain": [
       "<Figure size 720x360 with 1 Axes>"
      ]
     },
     "metadata": {
      "needs_background": "light"
     },
     "output_type": "display_data"
    }
   ],
   "source": [
    "plt.figure(figsize = (10,5))\n",
    "(data.groupby(['열차번호'])['지연여부'].sum().sort_index()/data['열차번호'].value_counts().sort_index()).sort_values(ascending = False)[:20].plot('bar', title = '열차번호 vs 지연 비율')"
   ]
  },
  {
   "cell_type": "markdown",
   "metadata": {},
   "source": [
    "지연 비율이 높은 순으로 20개를 나열\n",
    "\n",
    "그래프를 살펴보면 20개의 열차에서 지연 비율이 0.9이상임을 확인"
   ]
  },
  {
   "cell_type": "markdown",
   "metadata": {},
   "source": [
    "- 열차번호의 지연비율에 대한 히스토그램"
   ]
  },
  {
   "cell_type": "markdown",
   "metadata": {},
   "source": []
  },
  {
   "cell_type": "code",
   "execution_count": 39,
   "metadata": {},
   "outputs": [
    {
     "data": {
      "text/plain": [
       "1237"
      ]
     },
     "execution_count": 39,
     "metadata": {},
     "output_type": "execute_result"
    }
   ],
   "source": [
    "data['열차번호'].nunique()"
   ]
  },
  {
   "cell_type": "code",
   "execution_count": 47,
   "metadata": {
    "scrolled": false
   },
   "outputs": [
    {
     "name": "stderr",
     "output_type": "stream",
     "text": [
      "C:\\Users\\seung\\Anaconda3\\lib\\site-packages\\ipykernel_launcher.py:2: FutureWarning: `Series.plot()` should not be called with positional arguments, only keyword arguments. The order of positional arguments will change in the future. Use `Series.plot(kind='hist')` instead of `Series.plot('hist',)`.\n",
      "  \n"
     ]
    },
    {
     "data": {
      "text/plain": [
       "<matplotlib.axes._subplots.AxesSubplot at 0x2761331b4c8>"
      ]
     },
     "execution_count": 47,
     "metadata": {},
     "output_type": "execute_result"
    },
    {
     "data": {
      "image/png": "[encoded data removed]",
      "text/plain": [
       "<Figure size 720x360 with 1 Axes>"
      ]
     },
     "metadata": {
      "needs_background": "light"
     },
     "output_type": "display_data"
    }
   ],
   "source": [
    "plt.figure(figsize = (10,5))\n",
    "(data.groupby(['열차번호'])['지연여부'].sum().sort_index()/data['열차번호'].value_counts().sort_index()).sort_values(ascending = False).plot('hist', title = '열차번호의 지연비율에 대한 히스토그램')"
   ]
  },
  {
   "cell_type": "markdown",
   "metadata": {},
   "source": [
    "각 열차번호마다 지연되는 비율이 대체적으로 높은 편\n",
    "\n",
    "열차번호가 지연에 영향을 줄 것으로 보임"
   ]
  },
  {
   "cell_type": "markdown",
   "metadata": {},
   "source": [
    "# 역과 지연"
   ]
  },
  {
   "cell_type": "markdown",
   "metadata": {},
   "source": [
    "- 역 vs 총 지연수"
   ]
  },
  {
   "cell_type": "code",
   "execution_count": 46,
   "metadata": {
    "colab": {
     "base_uri": "https://localhost:8080/",
     "height": 433
    },
    "colab_type": "code",
    "executionInfo": {
     "elapsed": 2900,
     "status": "ok",
     "timestamp": 1583435670461,
     "user": {
      "displayName": "최승희",
      "photoUrl": "",
      "userId": "06402592860984448418"
     },
     "user_tz": -540
    },
    "id": "sO8B0vEw7P08",
    "outputId": "78b9cd12-cdcf-4004-d135-bf6d03424a8d"
   },
   "outputs": [
    {
     "name": "stderr",
     "output_type": "stream",
     "text": [
      "C:\\Users\\seung\\Anaconda3\\lib\\site-packages\\ipykernel_launcher.py:2: FutureWarning: `Series.plot()` should not be called with positional arguments, only keyword arguments. The order of positional arguments will change in the future. Use `Series.plot(kind='bar')` instead of `Series.plot('bar',)`.\n",
      "  \n"
     ]
    },
    {
     "data": {
      "text/plain": [
       "<matplotlib.axes._subplots.AxesSubplot at 0x275faf63948>"
      ]
     },
     "execution_count": 46,
     "metadata": {},
     "output_type": "execute_result"
    },
    {
     "data": {
      "image/png": "[encoded data removed]",
      "text/plain": [
       "<Figure size 1440x360 with 1 Axes>"
      ]
     },
     "metadata": {
      "needs_background": "light"
     },
     "output_type": "display_data"
    }
   ],
   "source": [
    "plt.figure(figsize = (20,5))\n",
    "data.groupby('역')['지연여부'].sum().sort_values(ascending = False).plot('bar', title = '역 vs 총 지연수')"
   ]
  },
  {
   "cell_type": "markdown",
   "metadata": {},
   "source": [
    "- 역 vs 지연 비율"
   ]
  },
  {
   "cell_type": "code",
   "execution_count": 48,
   "metadata": {
    "colab": {
     "base_uri": "https://localhost:8080/",
     "height": 433
    },
    "colab_type": "code",
    "executionInfo": {
     "elapsed": 3835,
     "status": "ok",
     "timestamp": 1583435652428,
     "user": {
      "displayName": "최승희",
      "photoUrl": "",
      "userId": "06402592860984448418"
     },
     "user_tz": -540
    },
    "id": "Drd1lp3VHe0j",
    "outputId": "b7a79956-1c0b-4ffb-b0dc-d7ba7a65b7f5",
    "scrolled": true
   },
   "outputs": [
    {
     "name": "stderr",
     "output_type": "stream",
     "text": [
      "C:\\Users\\seung\\Anaconda3\\lib\\site-packages\\ipykernel_launcher.py:2: FutureWarning: `Series.plot()` should not be called with positional arguments, only keyword arguments. The order of positional arguments will change in the future. Use `Series.plot(kind='bar')` instead of `Series.plot('bar',)`.\n",
      "  \n"
     ]
    },
    {
     "data": {
      "text/plain": [
       "<matplotlib.axes._subplots.AxesSubplot at 0x27613565208>"
      ]
     },
     "execution_count": 48,
     "metadata": {},
     "output_type": "execute_result"
    },
    {
     "data": {
      "image/png": "[encoded data removed]",
      "text/plain": [
       "<Figure size 1440x360 with 1 Axes>"
      ]
     },
     "metadata": {
      "needs_background": "light"
     },
     "output_type": "display_data"
    }
   ],
   "source": [
    "plt.figure(figsize = (20,5))\n",
    "(data.groupby(['역'])['지연여부'].sum().sort_index()/data['역'].value_counts().sort_index()).sort_values(ascending = False).plot('bar', title = '역 vs 지연 비율')"
   ]
  },
  {
   "cell_type": "markdown",
   "metadata": {},
   "source": [
    "총지연수로 살펴보면 인천에서 용산 구간에서, 지연비율로 살펴보면 신창에서 서울 구간에서 많이 발생"
   ]
  },
  {
   "cell_type": "markdown",
   "metadata": {},
   "source": [
    "# 역간소요시간과 지연"
   ]
  },
  {
   "cell_type": "code",
   "execution_count": 53,
   "metadata": {
    "colab": {
     "base_uri": "https://localhost:8080/",
     "height": 354
    },
    "colab_type": "code",
    "executionInfo": {
     "elapsed": 10125,
     "status": "ok",
     "timestamp": 1583434027873,
     "user": {
      "displayName": "최승희",
      "photoUrl": "",
      "userId": "06402592860984448418"
     },
     "user_tz": -540
    },
    "id": "ojo5znOZ-vDi",
    "outputId": "6767aee7-38a5-427e-cc6f-e1e73aa1992c"
   },
   "outputs": [
    {
     "data": {
      "text/plain": [
       "Text(0.5, 1.0, '역간소요시간 vs 지연여부')"
      ]
     },
     "execution_count": 53,
     "metadata": {},
     "output_type": "execute_result"
    },
    {
     "data": {
      "image/png": "[encoded data removed]",
      "text/plain": [
       "<Figure size 720x360 with 1 Axes>"
      ]
     },
     "metadata": {
      "needs_background": "light"
     },
     "output_type": "display_data"
    }
   ],
   "source": [
    "plt.figure(figsize = (10,5))\n",
    "sns.boxplot(y = data['역간소요시간'], x = data['지연여부'])\n",
    "plt.title('역간소요시간 vs 지연여부')"
   ]
  },
  {
   "cell_type": "markdown",
   "metadata": {},
   "source": [
    "### 역간소요시간이 지연여부에 영향을 주는가?"
   ]
  },
  {
   "cell_type": "code",
   "execution_count": 98,
   "metadata": {},
   "outputs": [],
   "source": [
    "delay1 = data.loc[data['지연여부'] == 1, '역간소요시간']\n",
    "delay0 = data.loc[data['지연여부'] == 0, '역간소요시간']"
   ]
  },
  {
   "cell_type": "code",
   "execution_count": 99,
   "metadata": {
    "scrolled": true
   },
   "outputs": [
    {
     "data": {
      "text/plain": [
       "0          7.0\n",
       "1          7.0\n",
       "2          7.0\n",
       "3          7.0\n",
       "4          2.5\n",
       "          ... \n",
       "7313680    2.5\n",
       "7313681    2.5\n",
       "7313682    2.5\n",
       "7313683    2.5\n",
       "7313684    2.5\n",
       "Name: 역간소요시간, Length: 4336221, dtype: float64"
      ]
     },
     "execution_count": 99,
     "metadata": {},
     "output_type": "execute_result"
    }
   ],
   "source": [
    "delay1"
   ]
  },
  {
   "cell_type": "code",
   "execution_count": 100,
   "metadata": {},
   "outputs": [
    {
     "data": {
      "text/plain": [
       "16         2.5\n",
       "17         2.5\n",
       "18         2.5\n",
       "19         2.5\n",
       "20         3.0\n",
       "          ... \n",
       "7313072    1.5\n",
       "7313073    1.5\n",
       "7313074    1.5\n",
       "7313075    1.5\n",
       "7313076    1.5\n",
       "Name: 역간소요시간, Length: 2264620, dtype: float64"
      ]
     },
     "execution_count": 100,
     "metadata": {},
     "output_type": "execute_result"
    }
   ],
   "source": [
    "delay0"
   ]
  },
  {
   "cell_type": "markdown",
   "metadata": {},
   "source": [
    "- 등분산 검정"
   ]
  },
  {
   "cell_type": "code",
   "execution_count": 101,
   "metadata": {},
   "outputs": [
    {
     "data": {
      "text/plain": [
       "<matplotlib.axes._subplots.AxesSubplot at 0x276905cec88>"
      ]
     },
     "execution_count": 101,
     "metadata": {},
     "output_type": "execute_result"
    },
    {
     "data": {
      "image/png": "[encoded data removed]",
      "text/plain": [
       "<Figure size 432x288 with 1 Axes>"
      ]
     },
     "metadata": {
      "needs_background": "light"
     },
     "output_type": "display_data"
    }
   ],
   "source": [
    "sns.distplot(delay1)\n",
    "sns.distplot(delay0)"
   ]
  },
  {
   "cell_type": "code",
   "execution_count": 75,
   "metadata": {},
   "outputs": [
    {
     "data": {
      "text/plain": [
       "BartlettResult(statistic=118774.3293251334, pvalue=0.0)"
      ]
     },
     "execution_count": 75,
     "metadata": {},
     "output_type": "execute_result"
    }
   ],
   "source": [
    "stats.bartlett(delay1, delay0)"
   ]
  },
  {
   "cell_type": "code",
   "execution_count": 76,
   "metadata": {
    "scrolled": true
   },
   "outputs": [
    {
     "data": {
      "text/plain": [
       "LeveneResult(statistic=54607.76077863962, pvalue=0.0)"
      ]
     },
     "execution_count": 76,
     "metadata": {},
     "output_type": "execute_result"
    }
   ],
   "source": [
    "stats.levene(delay1, delay0)"
   ]
  },
  {
   "cell_type": "markdown",
   "metadata": {},
   "source": [
    "등분산을 만족하지 않음"
   ]
  },
  {
   "cell_type": "markdown",
   "metadata": {},
   "source": [
    "- t-test"
   ]
  },
  {
   "cell_type": "markdown",
   "metadata": {},
   "source": [
    "대립가설: 역간소요시간이 지연여부에 영향을 줄 것이다.\n",
    "\n",
    "귀무가설: 역간소요시간이 지연여부에 영향을 주지 않는다."
   ]
  },
  {
   "cell_type": "code",
   "execution_count": 78,
   "metadata": {
    "scrolled": true
   },
   "outputs": [
    {
     "name": "stdout",
     "output_type": "stream",
     "text": [
      "t statistic : 332.846 \n",
      "p-value : 0.000\n"
     ]
    }
   ],
   "source": [
    "result = stats.ttest_ind(delay1, delay0, equal_var=False) \n",
    "print('t statistic : %.3f \\np-value : %.3f' % (result))"
   ]
  },
  {
   "cell_type": "markdown",
   "metadata": {},
   "source": [
    "귀무가설을 기각하므로, 역간소요시간이 지연여부에 어느정도 영향을 준다."
   ]
  },
  {
   "cell_type": "markdown",
   "metadata": {},
   "source": [
    "# 급행여부와 지연"
   ]
  },
  {
   "cell_type": "code",
   "execution_count": 51,
   "metadata": {},
   "outputs": [
    {
     "data": {
      "text/plain": [
       "0    4767044\n",
       "1    1833797\n",
       "Name: 급행여부, dtype: int64"
      ]
     },
     "execution_count": 51,
     "metadata": {},
     "output_type": "execute_result"
    }
   ],
   "source": [
    "data['급행여부'].value_counts()"
   ]
  },
  {
   "cell_type": "code",
   "execution_count": 79,
   "metadata": {
    "colab": {
     "base_uri": "https://localhost:8080/",
     "height": 404
    },
    "colab_type": "code",
    "executionInfo": {
     "elapsed": 1014,
     "status": "ok",
     "timestamp": 1583434389639,
     "user": {
      "displayName": "최승희",
      "photoUrl": "",
      "userId": "06402592860984448418"
     },
     "user_tz": -540
    },
    "id": "N9ZffZmSCuFH",
    "outputId": "bac553f5-34c3-4365-ed5c-dbf44aa71edd",
    "scrolled": true
   },
   "outputs": [
    {
     "data": {
      "text/plain": [
       "(<Figure size 432x288 with 3 Axes>,\n",
       " OrderedDict([(('1', 'True'),\n",
       "               (0.0, 0.0, 0.27643047784983704, 0.6158938271202834)),\n",
       "              (('1', 'False'),\n",
       "               (0.0,\n",
       "                0.6192160862564959,\n",
       "                0.27643047784983704,\n",
       "                0.38078391374350395)),\n",
       "              (('0', 'True'),\n",
       "               (0.2814056022279465,\n",
       "                0.0,\n",
       "                0.7185943977720536,\n",
       "                0.6696793018219296)),\n",
       "              (('0', 'False'),\n",
       "               (0.2814056022279465,\n",
       "                0.6730015609581422,\n",
       "                0.7185943977720536,\n",
       "                0.3269984390418577))]))"
      ]
     },
     "execution_count": 79,
     "metadata": {},
     "output_type": "execute_result"
    },
    {
     "data": {
      "image/png": "[encoded data removed]",
      "text/plain": [
       "<Figure size 432x288 with 3 Axes>"
      ]
     },
     "metadata": {
      "needs_background": "light"
     },
     "output_type": "display_data"
    }
   ],
   "source": [
    "mosaic(data, ['급행여부', '지연여부'], title='급행여부 vs 지연의 모자이크')"
   ]
  },
  {
   "cell_type": "markdown",
   "metadata": {},
   "source": [
    "### 급행여부가 지연여부에 영향을 주는가?"
   ]
  },
  {
   "cell_type": "code",
   "execution_count": 127,
   "metadata": {},
   "outputs": [
    {
     "name": "stdout",
     "output_type": "stream",
     "text": [
      "                       Generalized Linear Model Regression Results                       \n",
      "=========================================================================================\n",
      "Dep. Variable:     ['지연여부[False]', '지연여부[True]']   No. Observations:              6600841\n",
      "Model:                                       GLM   Df Residuals:                  6600839\n",
      "Model Family:                           Binomial   Df Model:                            1\n",
      "Link Function:                             logit   Scale:                          1.0000\n",
      "Method:                                     IRLS   Log-Likelihood:            -4.2363e+06\n",
      "Date:                           Mon, 06 Apr 2020   Deviance:                   8.4725e+06\n",
      "Time:                                   13:24:17   Pearson chi2:                 6.60e+06\n",
      "No. Iterations:                                5                                         \n",
      "Covariance Type:                       nonrobust                                         \n",
      "==============================================================================\n",
      "                 coef    std err          z      P>|z|      [0.025      0.975]\n",
      "------------------------------------------------------------------------------\n",
      "Intercept     -0.7168      0.001   -734.853      0.000      -0.719      -0.715\n",
      "급행여부           0.2360      0.002    130.681      0.000       0.232       0.240\n",
      "==============================================================================\n"
     ]
    }
   ],
   "source": [
    "glm_fit = smf.glm(formula='지연여부 ~ 급행여부', data=data, family=sm.families.Binomial()).fit()\n",
    "print(glm_fit.summary())"
   ]
  },
  {
   "cell_type": "markdown",
   "metadata": {},
   "source": [
    "# 환승가능과 지연"
   ]
  },
  {
   "cell_type": "markdown",
   "metadata": {},
   "source": [
    "환승가능이란, 해당 역에서 환승가능한 역의 수"
   ]
  },
  {
   "cell_type": "code",
   "execution_count": 55,
   "metadata": {
    "colab": {
     "base_uri": "https://localhost:8080/",
     "height": 354
    },
    "colab_type": "code",
    "executionInfo": {
     "elapsed": 1960,
     "status": "ok",
     "timestamp": 1583434526813,
     "user": {
      "displayName": "최승희",
      "photoUrl": "",
      "userId": "06402592860984448418"
     },
     "user_tz": -540
    },
    "id": "H-foU2OcBqCA",
    "outputId": "6b56ed53-b21f-4a0c-e918-c002844b0485"
   },
   "outputs": [
    {
     "data": {
      "text/plain": [
       "Text(0.5, 1.0, '환승가능 vs 지연여부')"
      ]
     },
     "execution_count": 55,
     "metadata": {},
     "output_type": "execute_result"
    },
    {
     "data": {
      "image/png": "[encoded data removed]",
      "text/plain": [
       "<Figure size 720x360 with 1 Axes>"
      ]
     },
     "metadata": {
      "needs_background": "light"
     },
     "output_type": "display_data"
    }
   ],
   "source": [
    "plt.figure(figsize = (10,5))\n",
    "sns.boxplot(y = data['환승가능'], x = data['지연여부'])\n",
    "plt.title('환승가능 vs 지연여부')"
   ]
  },
  {
   "cell_type": "markdown",
   "metadata": {},
   "source": [
    "### 환승가능이 지연여부에 영향을 주는가?"
   ]
  },
  {
   "cell_type": "code",
   "execution_count": 102,
   "metadata": {},
   "outputs": [],
   "source": [
    "delay1 = data.loc[data['지연여부'] == 1, '환승가능']\n",
    "delay0 = data.loc[data['지연여부'] == 0, '환승가능']"
   ]
  },
  {
   "cell_type": "code",
   "execution_count": 103,
   "metadata": {
    "scrolled": true
   },
   "outputs": [
    {
     "data": {
      "text/plain": [
       "0          2\n",
       "1          2\n",
       "2          2\n",
       "3          2\n",
       "4          0\n",
       "          ..\n",
       "7313680    0\n",
       "7313681    0\n",
       "7313682    0\n",
       "7313683    0\n",
       "7313684    0\n",
       "Name: 환승가능, Length: 4336221, dtype: int64"
      ]
     },
     "execution_count": 103,
     "metadata": {},
     "output_type": "execute_result"
    }
   ],
   "source": [
    "delay1"
   ]
  },
  {
   "cell_type": "code",
   "execution_count": 104,
   "metadata": {},
   "outputs": [
    {
     "data": {
      "text/plain": [
       "16         0\n",
       "17         0\n",
       "18         0\n",
       "19         0\n",
       "20         0\n",
       "          ..\n",
       "7313072    3\n",
       "7313073    3\n",
       "7313074    3\n",
       "7313075    3\n",
       "7313076    3\n",
       "Name: 환승가능, Length: 2264620, dtype: int64"
      ]
     },
     "execution_count": 104,
     "metadata": {},
     "output_type": "execute_result"
    }
   ],
   "source": [
    "delay0"
   ]
  },
  {
   "cell_type": "markdown",
   "metadata": {},
   "source": [
    "- 등분산 검정"
   ]
  },
  {
   "cell_type": "code",
   "execution_count": 105,
   "metadata": {},
   "outputs": [
    {
     "data": {
      "text/plain": [
       "<matplotlib.axes._subplots.AxesSubplot at 0x276907531c8>"
      ]
     },
     "execution_count": 105,
     "metadata": {},
     "output_type": "execute_result"
    },
    {
     "data": {
      "image/png": "[encoded data removed]",
      "text/plain": [
       "<Figure size 432x288 with 1 Axes>"
      ]
     },
     "metadata": {
      "needs_background": "light"
     },
     "output_type": "display_data"
    }
   ],
   "source": [
    "sns.distplot(delay1)\n",
    "sns.distplot(delay0)"
   ]
  },
  {
   "cell_type": "code",
   "execution_count": 106,
   "metadata": {},
   "outputs": [
    {
     "data": {
      "text/plain": [
       "BartlettResult(statistic=13486.24549556141, pvalue=0.0)"
      ]
     },
     "execution_count": 106,
     "metadata": {},
     "output_type": "execute_result"
    }
   ],
   "source": [
    "stats.bartlett(delay1, delay0)"
   ]
  },
  {
   "cell_type": "code",
   "execution_count": 107,
   "metadata": {
    "scrolled": true
   },
   "outputs": [
    {
     "data": {
      "text/plain": [
       "LeveneResult(statistic=13182.974338168915, pvalue=0.0)"
      ]
     },
     "execution_count": 107,
     "metadata": {},
     "output_type": "execute_result"
    }
   ],
   "source": [
    "stats.levene(delay1, delay0)"
   ]
  },
  {
   "cell_type": "markdown",
   "metadata": {},
   "source": [
    "등분산을 만족하지 않음"
   ]
  },
  {
   "cell_type": "markdown",
   "metadata": {},
   "source": [
    "- t-test"
   ]
  },
  {
   "cell_type": "markdown",
   "metadata": {},
   "source": [
    "대립가설: 환승가능이 지연여부에 영향을 줄 것이다.\n",
    "\n",
    "귀무가설: 환승가능이 지연여부에 영향을 주지 않는다."
   ]
  },
  {
   "cell_type": "code",
   "execution_count": 108,
   "metadata": {
    "scrolled": true
   },
   "outputs": [
    {
     "name": "stdout",
     "output_type": "stream",
     "text": [
      "t statistic : 117.284 \n",
      "p-value : 0.000\n"
     ]
    }
   ],
   "source": [
    "result = stats.ttest_ind(delay1, delay0, equal_var=False) \n",
    "print('t statistic : %.3f \\np-value : %.3f' % (result))"
   ]
  },
  {
   "cell_type": "markdown",
   "metadata": {},
   "source": [
    "귀무가설을 기각하므로, 환승가능이 지연여부에 어느정도 영향을 준다."
   ]
  },
  {
   "cell_type": "markdown",
   "metadata": {},
   "source": [
    "# 출발행과 지연"
   ]
  },
  {
   "cell_type": "markdown",
   "metadata": {},
   "source": [
    "- 출발행 vs 총 지연수"
   ]
  },
  {
   "cell_type": "code",
   "execution_count": 56,
   "metadata": {
    "colab": {
     "base_uri": "https://localhost:8080/",
     "height": 428
    },
    "colab_type": "code",
    "executionInfo": {
     "elapsed": 1689,
     "status": "ok",
     "timestamp": 1583434565868,
     "user": {
      "displayName": "최승희",
      "photoUrl": "",
      "userId": "06402592860984448418"
     },
     "user_tz": -540
    },
    "id": "RqW1jfDHDPBn",
    "outputId": "a1cbd26a-9976-436d-e9f1-76caacd8425d",
    "scrolled": true
   },
   "outputs": [
    {
     "name": "stderr",
     "output_type": "stream",
     "text": [
      "C:\\Users\\seung\\Anaconda3\\lib\\site-packages\\ipykernel_launcher.py:2: FutureWarning: `Series.plot()` should not be called with positional arguments, only keyword arguments. The order of positional arguments will change in the future. Use `Series.plot(kind='bar')` instead of `Series.plot('bar',)`.\n",
      "  \n"
     ]
    },
    {
     "data": {
      "text/plain": [
       "<matplotlib.axes._subplots.AxesSubplot at 0x27617b0cc48>"
      ]
     },
     "execution_count": 56,
     "metadata": {},
     "output_type": "execute_result"
    },
    {
     "data": {
      "image/png": "[encoded data removed]",
      "text/plain": [
       "<Figure size 720x360 with 1 Axes>"
      ]
     },
     "metadata": {
      "needs_background": "light"
     },
     "output_type": "display_data"
    }
   ],
   "source": [
    "plt.figure(figsize = (10,5))\n",
    "data.groupby(['출발행'])['지연여부'].sum().sort_values(ascending = False).plot('bar', title = '출발행 vs 총 지연수')"
   ]
  },
  {
   "cell_type": "markdown",
   "metadata": {},
   "source": [
    "- 출발행 vs 지연 비율"
   ]
  },
  {
   "cell_type": "code",
   "execution_count": 58,
   "metadata": {
    "colab": {
     "base_uri": "https://localhost:8080/",
     "height": 425
    },
    "colab_type": "code",
    "executionInfo": {
     "elapsed": 2298,
     "status": "ok",
     "timestamp": 1583435101751,
     "user": {
      "displayName": "최승희",
      "photoUrl": "",
      "userId": "06402592860984448418"
     },
     "user_tz": -540
    },
    "id": "mpExr7u_Dn8s",
    "outputId": "da18ba02-623a-4c1d-c17f-0a9888fdf074",
    "scrolled": true
   },
   "outputs": [
    {
     "name": "stderr",
     "output_type": "stream",
     "text": [
      "C:\\Users\\seung\\Anaconda3\\lib\\site-packages\\ipykernel_launcher.py:2: FutureWarning: `Series.plot()` should not be called with positional arguments, only keyword arguments. The order of positional arguments will change in the future. Use `Series.plot(kind='bar')` instead of `Series.plot('bar',)`.\n",
      "  \n"
     ]
    },
    {
     "data": {
      "text/plain": [
       "<matplotlib.axes._subplots.AxesSubplot at 0x27619e68788>"
      ]
     },
     "execution_count": 58,
     "metadata": {},
     "output_type": "execute_result"
    },
    {
     "data": {
      "image/png": "[encoded data removed]",
      "text/plain": [
       "<Figure size 720x360 with 1 Axes>"
      ]
     },
     "metadata": {
      "needs_background": "light"
     },
     "output_type": "display_data"
    }
   ],
   "source": [
    "plt.figure(figsize = (10,5))\n",
    "(data.groupby(['출발행'])['지연여부'].sum().sort_index()/data['출발행'].value_counts().sort_index()).sort_values(ascending = False).plot('bar', title = '출발행 vs 지연 비율')"
   ]
  },
  {
   "cell_type": "markdown",
   "metadata": {},
   "source": [
    "인천, 경기지역에서 서울로 올라오는 열차에서 지연이 많이 일어남"
   ]
  },
  {
   "cell_type": "markdown",
   "metadata": {},
   "source": [
    "### 출발행이 지연여부에 영향을 주는가?"
   ]
  },
  {
   "cell_type": "code",
   "execution_count": 130,
   "metadata": {
    "scrolled": true
   },
   "outputs": [
    {
     "name": "stdout",
     "output_type": "stream",
     "text": [
      "                       Generalized Linear Model Regression Results                       \n",
      "=========================================================================================\n",
      "Dep. Variable:     ['지연여부[False]', '지연여부[True]']   No. Observations:              6600841\n",
      "Model:                                       GLM   Df Residuals:                  6600821\n",
      "Model Family:                           Binomial   Df Model:                           19\n",
      "Link Function:                             logit   Scale:                          1.0000\n",
      "Method:                                     IRLS   Log-Likelihood:            -4.1990e+06\n",
      "Date:                           Mon, 06 Apr 2020   Deviance:                   8.3980e+06\n",
      "Time:                                   13:30:49   Pearson chi2:                 6.60e+06\n",
      "No. Iterations:                                5                                         \n",
      "Covariance Type:                       nonrobust                                         \n",
      "==============================================================================\n",
      "                 coef    std err          z      P>|z|      [0.025      0.975]\n",
      "------------------------------------------------------------------------------\n",
      "Intercept     -1.0679      0.004   -265.041      0.000      -1.076      -1.060\n",
      "출발행[T.구로]      0.4471      0.006     79.329      0.000       0.436       0.458\n",
      "출발행[T.동두천]     0.5002      0.005     93.004      0.000       0.490       0.511\n",
      "출발행[T.동묘앞]    -0.3805      0.011    -33.341      0.000      -0.403      -0.358\n",
      "출발행[T.동인천]     0.8401      0.005    181.072      0.000       0.831       0.849\n",
      "출발행[T.병점]      0.1383      0.016      8.830      0.000       0.108       0.169\n",
      "출발행[T.부천]      1.6275      0.031     52.511      0.000       1.567       1.688\n",
      "출발행[T.부평]     -0.0496      0.012     -4.177      0.000      -0.073      -0.026\n",
      "출발행[T.서동탄]    -0.0776      0.008     -9.381      0.000      -0.094      -0.061\n",
      "출발행[T.서울]      0.9811      0.031     31.657      0.000       0.920       1.042\n",
      "출발행[T.소요산]     0.6335      0.005    133.162      0.000       0.624       0.643\n",
      "출발행[T.신창]     -0.0534      0.010     -5.398      0.000      -0.073      -0.034\n",
      "출발행[T.양주]      0.3733      0.005     73.935      0.000       0.363       0.383\n",
      "출발행[T.영등포]     0.9986      0.017     58.933      0.000       0.965       1.032\n",
      "출발행[T.용산]      0.3650      0.005     77.714      0.000       0.356       0.374\n",
      "출발행[T.의정부]     0.2959      0.005     56.090      0.000       0.286       0.306\n",
      "출발행[T.인천]      0.3981      0.004     92.287      0.000       0.390       0.407\n",
      "출발행[T.창동]      0.3305      0.008     39.950      0.000       0.314       0.347\n",
      "출발행[T.천안]      0.4316      0.009     49.950      0.000       0.415       0.448\n",
      "출발행[T.청량리]    -0.2408      0.007    -35.972      0.000      -0.254      -0.228\n",
      "==============================================================================\n"
     ]
    }
   ],
   "source": [
    "glm_fit = smf.glm(formula='지연여부 ~ 출발행', data=data, family=sm.families.Binomial()).fit()\n",
    "print(glm_fit.summary())"
   ]
  },
  {
   "cell_type": "markdown",
   "metadata": {},
   "source": [
    "출발행이 지연여부에 영향을 주는 것으로 보인다"
   ]
  },
  {
   "cell_type": "markdown",
   "metadata": {},
   "source": [
    "# 종착행과 지연"
   ]
  },
  {
   "cell_type": "markdown",
   "metadata": {},
   "source": [
    "- 종착행 vs 총 지연수"
   ]
  },
  {
   "cell_type": "code",
   "execution_count": 59,
   "metadata": {
    "colab": {
     "base_uri": "https://localhost:8080/",
     "height": 425
    },
    "colab_type": "code",
    "executionInfo": {
     "elapsed": 1471,
     "status": "ok",
     "timestamp": 1583434582691,
     "user": {
      "displayName": "최승희",
      "photoUrl": "",
      "userId": "06402592860984448418"
     },
     "user_tz": -540
    },
    "id": "8RuQ6_CmDe4c",
    "outputId": "f2a52e94-b19a-40c4-f82d-a198c7b4be9e",
    "scrolled": true
   },
   "outputs": [
    {
     "name": "stderr",
     "output_type": "stream",
     "text": [
      "C:\\Users\\seung\\Anaconda3\\lib\\site-packages\\ipykernel_launcher.py:2: FutureWarning: `Series.plot()` should not be called with positional arguments, only keyword arguments. The order of positional arguments will change in the future. Use `Series.plot(kind='bar')` instead of `Series.plot('bar',)`.\n",
      "  \n"
     ]
    },
    {
     "data": {
      "text/plain": [
       "<matplotlib.axes._subplots.AxesSubplot at 0x27619f24f88>"
      ]
     },
     "execution_count": 59,
     "metadata": {},
     "output_type": "execute_result"
    },
    {
     "data": {
      "image/png": "[encoded data removed]",
      "text/plain": [
       "<Figure size 720x360 with 1 Axes>"
      ]
     },
     "metadata": {
      "needs_background": "light"
     },
     "output_type": "display_data"
    }
   ],
   "source": [
    "plt.figure(figsize = (10,5))\n",
    "data.groupby(['종착행'])['지연여부'].sum().sort_values(ascending = False).plot('bar', title = '종착행 vs 총 지연수')"
   ]
  },
  {
   "cell_type": "markdown",
   "metadata": {},
   "source": [
    "- 종착행 vs 지연 비율"
   ]
  },
  {
   "cell_type": "code",
   "execution_count": 60,
   "metadata": {
    "colab": {
     "base_uri": "https://localhost:8080/",
     "height": 425
    },
    "colab_type": "code",
    "executionInfo": {
     "elapsed": 2381,
     "status": "ok",
     "timestamp": 1583435119076,
     "user": {
      "displayName": "최승희",
      "photoUrl": "",
      "userId": "06402592860984448418"
     },
     "user_tz": -540
    },
    "id": "5tisJR3kDi_P",
    "outputId": "47d7a73d-7569-49f0-ba84-2c6e88ff750e",
    "scrolled": true
   },
   "outputs": [
    {
     "name": "stderr",
     "output_type": "stream",
     "text": [
      "C:\\Users\\seung\\Anaconda3\\lib\\site-packages\\ipykernel_launcher.py:2: FutureWarning: `Series.plot()` should not be called with positional arguments, only keyword arguments. The order of positional arguments will change in the future. Use `Series.plot(kind='bar')` instead of `Series.plot('bar',)`.\n",
      "  \n"
     ]
    },
    {
     "data": {
      "text/plain": [
       "<matplotlib.axes._subplots.AxesSubplot at 0x2761cef9b88>"
      ]
     },
     "execution_count": 60,
     "metadata": {},
     "output_type": "execute_result"
    },
    {
     "data": {
      "image/png": "[encoded data removed]",
      "text/plain": [
       "<Figure size 720x360 with 1 Axes>"
      ]
     },
     "metadata": {
      "needs_background": "light"
     },
     "output_type": "display_data"
    }
   ],
   "source": [
    "plt.figure(figsize = (10,5))\n",
    "(data.groupby(['종착행'])['지연여부'].sum().sort_index()/data['종착행'].value_counts().sort_index()).sort_values(ascending = False).plot('bar', title = '종착행 vs 지연 비율')"
   ]
  },
  {
   "cell_type": "markdown",
   "metadata": {},
   "source": [
    "인천, 경기지역으로 가는 열차에서 지연이 많이 일어남"
   ]
  },
  {
   "cell_type": "markdown",
   "metadata": {},
   "source": [
    "### 종착행이 지연여부에 영향을 주는가?"
   ]
  },
  {
   "cell_type": "code",
   "execution_count": 131,
   "metadata": {},
   "outputs": [
    {
     "name": "stdout",
     "output_type": "stream",
     "text": [
      "                       Generalized Linear Model Regression Results                       \n",
      "=========================================================================================\n",
      "Dep. Variable:     ['지연여부[False]', '지연여부[True]']   No. Observations:              6600841\n",
      "Model:                                       GLM   Df Residuals:                  6600822\n",
      "Model Family:                           Binomial   Df Model:                           18\n",
      "Link Function:                             logit   Scale:                          1.0000\n",
      "Method:                                     IRLS   Log-Likelihood:            -4.2095e+06\n",
      "Date:                           Mon, 06 Apr 2020   Deviance:                   8.4190e+06\n",
      "Time:                                   13:33:19   Pearson chi2:                 6.60e+06\n",
      "No. Iterations:                                5                                         \n",
      "Covariance Type:                       nonrobust                                         \n",
      "==============================================================================\n",
      "                 coef    std err          z      P>|z|      [0.025      0.975]\n",
      "------------------------------------------------------------------------------\n",
      "Intercept     -0.7326      0.005   -159.585      0.000      -0.742      -0.724\n",
      "종착행[T.구로]      0.2828      0.006     46.872      0.000       0.271       0.295\n",
      "종착행[T.동두천]     0.0947      0.006     16.094      0.000       0.083       0.106\n",
      "종착행[T.동묘앞]    -0.2197      0.010    -21.486      0.000      -0.240      -0.200\n",
      "종착행[T.동인천]     0.0991      0.005     19.124      0.000       0.089       0.109\n",
      "종착행[T.병점]     -0.5316      0.013    -41.467      0.000      -0.557      -0.506\n",
      "종착행[T.부천]      1.0542      0.031     34.194      0.000       0.994       1.115\n",
      "종착행[T.부평]      0.1821      0.012     14.672      0.000       0.158       0.206\n",
      "종착행[T.서동탄]    -0.4734      0.007    -68.421      0.000      -0.487      -0.460\n",
      "종착행[T.서울]      1.1907      0.074     16.003      0.000       1.045       1.337\n",
      "종착행[T.소요산]     0.0646      0.005     12.167      0.000       0.054       0.075\n",
      "종착행[T.신창]     -0.7073      0.008    -84.421      0.000      -0.724      -0.691\n",
      "종착행[T.양주]      0.0230      0.006      4.129      0.000       0.012       0.034\n",
      "종착행[T.용산]      0.4683      0.005     91.301      0.000       0.458       0.478\n",
      "종착행[T.의정부]    -0.0249      0.006     -4.303      0.000      -0.036      -0.014\n",
      "종착행[T.인천]      0.0838      0.005     17.329      0.000       0.074       0.093\n",
      "종착행[T.창동]      0.1695      0.008     21.554      0.000       0.154       0.185\n",
      "종착행[T.천안]     -0.2681      0.007    -35.844      0.000      -0.283      -0.253\n",
      "종착행[T.청량리]    -0.1682      0.008    -21.685      0.000      -0.183      -0.153\n",
      "==============================================================================\n"
     ]
    }
   ],
   "source": [
    "glm_fit = smf.glm(formula='지연여부 ~ 종착행', data=data, family=sm.families.Binomial()).fit()\n",
    "print(glm_fit.summary())"
   ]
  },
  {
   "cell_type": "markdown",
   "metadata": {},
   "source": [
    "종착행 또한 지연여부에 영향을 끼침"
   ]
  },
  {
   "cell_type": "markdown",
   "metadata": {},
   "source": [
    "# 방향과 지연"
   ]
  },
  {
   "cell_type": "code",
   "execution_count": 69,
   "metadata": {
    "colab": {
     "base_uri": "https://localhost:8080/",
     "height": 416
    },
    "colab_type": "code",
    "executionInfo": {
     "elapsed": 1611,
     "status": "ok",
     "timestamp": 1583435197557,
     "user": {
      "displayName": "최승희",
      "photoUrl": "",
      "userId": "06402592860984448418"
     },
     "user_tz": -540
    },
    "id": "Q699kNDCFwvw",
    "outputId": "d57cbe1f-fe37-4834-91e8-ac4a21c2bc8f",
    "scrolled": true
   },
   "outputs": [
    {
     "data": {
      "text/plain": [
       "(<Figure size 432x288 with 3 Axes>,\n",
       " OrderedDict([(('하행', 'True'),\n",
       "               (0.0, 0.0, 0.5271952980398191, 0.6682609957487745)),\n",
       "              (('하행', 'False'),\n",
       "               (0.0,\n",
       "                0.6715832548849872,\n",
       "                0.5271952980398191,\n",
       "                0.3284167451150128)),\n",
       "              (('상행', 'True'),\n",
       "               (0.5321704224179287,\n",
       "                0.0,\n",
       "                0.4678295775820715,\n",
       "                0.6394969002448712)),\n",
       "              (('상행', 'False'),\n",
       "               (0.5321704224179287,\n",
       "                0.6428191593810837,\n",
       "                0.4678295775820715,\n",
       "                0.3571808406189162))]))"
      ]
     },
     "execution_count": 69,
     "metadata": {},
     "output_type": "execute_result"
    },
    {
     "data": {
      "image/png": "[encoded data removed]",
      "text/plain": [
       "<Figure size 432x288 with 3 Axes>"
      ]
     },
     "metadata": {
      "needs_background": "light"
     },
     "output_type": "display_data"
    }
   ],
   "source": [
    "mosaic(data, ['방향', '지연여부'], title='방향 vs 지연의 모자이크')"
   ]
  },
  {
   "cell_type": "markdown",
   "metadata": {},
   "source": [
    "- 방향이 지연여부에 영향을 주는가"
   ]
  },
  {
   "cell_type": "code",
   "execution_count": 128,
   "metadata": {
    "scrolled": true
   },
   "outputs": [
    {
     "name": "stdout",
     "output_type": "stream",
     "text": [
      "                       Generalized Linear Model Regression Results                       \n",
      "=========================================================================================\n",
      "Dep. Variable:     ['지연여부[False]', '지연여부[True]']   No. Observations:              6600841\n",
      "Model:                                       GLM   Df Residuals:                  6600839\n",
      "Model Family:                           Binomial   Df Model:                            1\n",
      "Link Function:                             logit   Scale:                          1.0000\n",
      "Method:                                     IRLS   Log-Likelihood:            -4.2417e+06\n",
      "Date:                           Mon, 06 Apr 2020   Deviance:                   8.4834e+06\n",
      "Time:                                   13:25:29   Pearson chi2:                 6.60e+06\n",
      "No. Iterations:                                5                                         \n",
      "Covariance Type:                       nonrobust                                         \n",
      "==============================================================================\n",
      "                 coef    std err          z      P>|z|      [0.025      0.975]\n",
      "------------------------------------------------------------------------------\n",
      "Intercept     -0.5824      0.001   -492.024      0.000      -0.585      -0.580\n",
      "방향[T.하행]      -0.1280      0.002    -77.937      0.000      -0.131      -0.125\n",
      "==============================================================================\n"
     ]
    }
   ],
   "source": [
    "glm_fit = smf.glm(formula='지연여부 ~ 방향', data=data, family=sm.families.Binomial()).fit()\n",
    "print(glm_fit.summary())"
   ]
  },
  {
   "cell_type": "markdown",
   "metadata": {},
   "source": [
    "상행/하행이 지연여부에 영향을 주는 것으로 판단"
   ]
  },
  {
   "cell_type": "markdown",
   "metadata": {},
   "source": [
    "# 시간과 지연"
   ]
  },
  {
   "cell_type": "markdown",
   "metadata": {},
   "source": [
    "- 시간 vs 총 지연수"
   ]
  },
  {
   "cell_type": "code",
   "execution_count": 65,
   "metadata": {
    "colab": {
     "base_uri": "https://localhost:8080/",
     "height": 428
    },
    "colab_type": "code",
    "executionInfo": {
     "elapsed": 1630,
     "status": "ok",
     "timestamp": 1583435270120,
     "user": {
      "displayName": "최승희",
      "photoUrl": "",
      "userId": "06402592860984448418"
     },
     "user_tz": -540
    },
    "id": "PoBdpPyEGE-c",
    "outputId": "6136d4fd-6805-455c-c411-11bc7530e567",
    "scrolled": true
   },
   "outputs": [
    {
     "name": "stderr",
     "output_type": "stream",
     "text": [
      "C:\\Users\\seung\\Anaconda3\\lib\\site-packages\\ipykernel_launcher.py:2: FutureWarning: `Series.plot()` should not be called with positional arguments, only keyword arguments. The order of positional arguments will change in the future. Use `Series.plot(kind='bar')` instead of `Series.plot('bar',)`.\n",
      "  \n"
     ]
    },
    {
     "data": {
      "text/plain": [
       "<matplotlib.axes._subplots.AxesSubplot at 0x2761d04a908>"
      ]
     },
     "execution_count": 65,
     "metadata": {},
     "output_type": "execute_result"
    },
    {
     "data": {
      "image/png": "[encoded data removed]",
      "text/plain": [
       "<Figure size 720x360 with 1 Axes>"
      ]
     },
     "metadata": {
      "needs_background": "light"
     },
     "output_type": "display_data"
    }
   ],
   "source": [
    "plt.figure(figsize = (10,5))\n",
    "data.groupby(['시간'])['지연여부'].sum().sort_values(ascending = False).plot('bar', title = '시간 vs 총 지연수')"
   ]
  },
  {
   "cell_type": "markdown",
   "metadata": {},
   "source": [
    "- 시간 vs 지연 비율"
   ]
  },
  {
   "cell_type": "code",
   "execution_count": 66,
   "metadata": {
    "colab": {
     "base_uri": "https://localhost:8080/",
     "height": 428
    },
    "colab_type": "code",
    "executionInfo": {
     "elapsed": 2315,
     "status": "ok",
     "timestamp": 1583435295346,
     "user": {
      "displayName": "최승희",
      "photoUrl": "",
      "userId": "06402592860984448418"
     },
     "user_tz": -540
    },
    "id": "EzpH9DfBGMDz",
    "outputId": "ce53a44f-8cee-4e09-f7d7-6eb1bf4e126d"
   },
   "outputs": [
    {
     "name": "stderr",
     "output_type": "stream",
     "text": [
      "C:\\Users\\seung\\Anaconda3\\lib\\site-packages\\ipykernel_launcher.py:2: FutureWarning: `Series.plot()` should not be called with positional arguments, only keyword arguments. The order of positional arguments will change in the future. Use `Series.plot(kind='bar')` instead of `Series.plot('bar',)`.\n",
      "  \n"
     ]
    },
    {
     "data": {
      "text/plain": [
       "<matplotlib.axes._subplots.AxesSubplot at 0x2761cfb3a88>"
      ]
     },
     "execution_count": 66,
     "metadata": {},
     "output_type": "execute_result"
    },
    {
     "data": {
      "image/png": "[encoded data removed]",
      "text/plain": [
       "<Figure size 720x360 with 1 Axes>"
      ]
     },
     "metadata": {
      "needs_background": "light"
     },
     "output_type": "display_data"
    }
   ],
   "source": [
    "plt.figure(figsize = (10,5))\n",
    "(data.groupby(['시간'])['지연여부'].sum().sort_index()/data['시간'].value_counts().sort_index()).sort_values(ascending = False).plot('bar', title = '시간 vs 지연 비율')"
   ]
  },
  {
   "cell_type": "markdown",
   "metadata": {},
   "source": [
    "from 19 to 20, from 18 to 19, from 20 to 21, from 9 to 10, from 8 to 9\n",
    "\n",
    "대부분 출퇴근 시간에 많이 발생하는 것을 확인\n"
   ]
  },
  {
   "cell_type": "markdown",
   "metadata": {},
   "source": [
    "- 모자이크"
   ]
  },
  {
   "cell_type": "code",
   "execution_count": 68,
   "metadata": {
    "scrolled": false
   },
   "outputs": [
    {
     "data": {
      "text/plain": [
       "(<Figure size 432x288 with 3 Axes>,\n",
       " OrderedDict([(('11~12', 'True'),\n",
       "               (0.0, 0.0, 0.04196131977728292, 0.5990115723502568)),\n",
       "              (('11~12', 'False'),\n",
       "               (0.0,\n",
       "                0.6023338314864695,\n",
       "                0.04196131977728292,\n",
       "                0.3976661685135305)),\n",
       "              (('12~13', 'True'),\n",
       "               (0.04650677432273746,\n",
       "                0.0,\n",
       "                0.0413280671356877,\n",
       "                0.5611460421185579)),\n",
       "              (('12~13', 'False'),\n",
       "               (0.04650677432273746,\n",
       "                0.5644683012547705,\n",
       "                0.0413280671356877,\n",
       "                0.4355316987452294)),\n",
       "              (('13~14', 'True'),\n",
       "               (0.0923802960038797,\n",
       "                0.0,\n",
       "                0.04123923547978754,\n",
       "                0.5929006827753731)),\n",
       "              (('13~14', 'False'),\n",
       "               (0.0923802960038797,\n",
       "                0.5962229419115856,\n",
       "                0.04123923547978754,\n",
       "                0.40377705808841424)),\n",
       "              (('14~15', 'True'),\n",
       "               (0.13816498602912178,\n",
       "                0.0,\n",
       "                0.04157844845417838,\n",
       "                0.6056928998637171)),\n",
       "              (('14~15', 'False'),\n",
       "               (0.13816498602912178,\n",
       "                0.6090151589999296,\n",
       "                0.04157844845417838,\n",
       "                0.39098484100007025)),\n",
       "              (('15~16', 'True'),\n",
       "               (0.1842888890287547,\n",
       "                0.0,\n",
       "                0.04347076931009797,\n",
       "                0.6163501276610687)),\n",
       "              (('15~16', 'False'),\n",
       "               (0.1842888890287547,\n",
       "                0.6196723867972812,\n",
       "                0.04347076931009797,\n",
       "                0.3803276132027187)),\n",
       "              (('16~17', 'True'),\n",
       "               (0.23230511288430727,\n",
       "                0.0,\n",
       "                0.04411283625553445,\n",
       "                0.6441905066159943)),\n",
       "              (('16~17', 'False'),\n",
       "               (0.23230511288430727,\n",
       "                0.6475127657522068,\n",
       "                0.04411283625553445,\n",
       "                0.352487234247793)),\n",
       "              (('17~18', 'True'),\n",
       "               (0.2809634036852962,\n",
       "                0.0,\n",
       "                0.05248573628723975,\n",
       "                0.691181936436965)),\n",
       "              (('17~18', 'False'),\n",
       "               (0.2809634036852962,\n",
       "                0.6945041955731776,\n",
       "                0.05248573628723975,\n",
       "                0.3054958044268223)),\n",
       "              (('19~20', 'True'),\n",
       "               (0.3379945945179905,\n",
       "                0.0,\n",
       "                0.05900267446637065,\n",
       "                0.7750335328603729)),\n",
       "              (('19~20', 'False'),\n",
       "               (0.3379945945179905,\n",
       "                0.7783557919965856,\n",
       "                0.05900267446637065,\n",
       "                0.22164420800341436)),\n",
       "              (('18~19', 'True'),\n",
       "               (0.40154272352981574,\n",
       "                0.0,\n",
       "                0.0589653513985429,\n",
       "                0.7504222651476483)),\n",
       "              (('18~19', 'False'),\n",
       "               (0.40154272352981574,\n",
       "                0.7537445242838609,\n",
       "                0.0589653513985429,\n",
       "                0.24625547571613898)),\n",
       "              (('20~21', 'True'),\n",
       "               (0.4650535294738132,\n",
       "                0.0,\n",
       "                0.055303283599496135,\n",
       "                0.7401570710685861)),\n",
       "              (('20~21', 'False'),\n",
       "               (0.4650535294738132,\n",
       "                0.7434793302047987,\n",
       "                0.055303283599496135,\n",
       "                0.2565206697952012)),\n",
       "              (('21~22', 'True'),\n",
       "               (0.5249022676187639,\n",
       "                0.0,\n",
       "                0.05048888329670279,\n",
       "                0.705055243084179)),\n",
       "              (('21~22', 'False'),\n",
       "               (0.5249022676187639,\n",
       "                0.7083775022203916,\n",
       "                0.05048888329670279,\n",
       "                0.2916224977796083)),\n",
       "              (('22~23', 'True'),\n",
       "               (0.5799366054609212,\n",
       "                0.0,\n",
       "                0.04290871971672035,\n",
       "                0.6241292195088697)),\n",
       "              (('22~23', 'False'),\n",
       "               (0.5799366054609212,\n",
       "                0.6274514786450823,\n",
       "                0.04290871971672035,\n",
       "                0.3725485213549176)),\n",
       "              (('23~24', 'True'),\n",
       "               (0.6273907797230961,\n",
       "                0.0,\n",
       "                0.03394622539213359,\n",
       "                0.6107173881887022)),\n",
       "              (('23~24', 'False'),\n",
       "               (0.6273907797230961,\n",
       "                0.6140396473249149,\n",
       "                0.03394622539213359,\n",
       "                0.38596035267508505)),\n",
       "              (('6~7', 'True'),\n",
       "               (0.6658824596606843,\n",
       "                0.0,\n",
       "                0.04945912470574863,\n",
       "                0.5253165741458894)),\n",
       "              (('6~7', 'False'),\n",
       "               (0.6658824596606843,\n",
       "                0.528638833282102,\n",
       "                0.04945912470574863,\n",
       "                0.4713611667178979)),\n",
       "              (('7~8', 'True'),\n",
       "               (0.7198870389118874,\n",
       "                0.0,\n",
       "                0.06200105273087028,\n",
       "                0.6200108873660909)),\n",
       "              (('7~8', 'False'),\n",
       "               (0.7198870389118874,\n",
       "                0.6233331465023035,\n",
       "                0.06200105273087028,\n",
       "                0.3766668534976964)),\n",
       "              (('9~10', 'True'),\n",
       "               (0.7864335461882122,\n",
       "                0.0,\n",
       "                0.05381738478475692,\n",
       "                0.7219922291423247)),\n",
       "              (('9~10', 'False'),\n",
       "               (0.7864335461882122,\n",
       "                0.7253144882785374,\n",
       "                0.05381738478475692,\n",
       "                0.27468551172146255)),\n",
       "              (('10~11', 'True'),\n",
       "               (0.8447963855184236,\n",
       "                0.0,\n",
       "                0.04468177202378808,\n",
       "                0.6843117955216682)),\n",
       "              (('10~11', 'False'),\n",
       "               (0.8447963855184236,\n",
       "                0.6876340546578809,\n",
       "                0.04468177202378808,\n",
       "                0.3123659453421191)),\n",
       "              (('8~9', 'True'),\n",
       "               (0.8940236120876663,\n",
       "                0.0,\n",
       "                0.06196317876905241,\n",
       "                0.7141827036503645)),\n",
       "              (('8~9', 'False'),\n",
       "               (0.8940236120876663,\n",
       "                0.7175049627865772,\n",
       "                0.06196317876905241,\n",
       "                0.28249503721342273)),\n",
       "              (('5~6', 'True'),\n",
       "               (0.9605322454021733,\n",
       "                0.0,\n",
       "                0.022692700686307878,\n",
       "                0.37997998619640344)),\n",
       "              (('5~6', 'False'),\n",
       "               (0.9605322454021733,\n",
       "                0.3833022453326161,\n",
       "                0.022692700686307878,\n",
       "                0.6166977546673839)),\n",
       "              (('0~1', 'True'),\n",
       "               (0.9877704006339357,\n",
       "                0.0,\n",
       "                0.007675881410758538,\n",
       "                0.6524882608622565)),\n",
       "              (('0~1', 'False'),\n",
       "               (0.9877704006339357,\n",
       "                0.6558105199984692,\n",
       "                0.007675881410758538,\n",
       "                0.3441894800015307)),\n",
       "              (('1~2', 'True'),\n",
       "               (0.9999917365901488,\n",
       "                0.0,\n",
       "                8.263409851131083e-06,\n",
       "                0.8637873754152824)),\n",
       "              (('1~2', 'False'),\n",
       "               (0.9999917365901488,\n",
       "                0.8671096345514949,\n",
       "                8.263409851131083e-06,\n",
       "                0.13289036544850494))]))"
      ]
     },
     "execution_count": 68,
     "metadata": {},
     "output_type": "execute_result"
    },
    {
     "data": {
      "image/png": "[encoded data removed]",
      "text/plain": [
       "<Figure size 432x288 with 3 Axes>"
      ]
     },
     "metadata": {
      "needs_background": "light"
     },
     "output_type": "display_data"
    }
   ],
   "source": [
    "mosaic(data, ['시간', '지연여부'], title='시간 vs 지연의 모자이크')"
   ]
  },
  {
   "cell_type": "markdown",
   "metadata": {},
   "source": [
    "### 시간이 지연여부에 영향을 주는가?"
   ]
  },
  {
   "cell_type": "code",
   "execution_count": 129,
   "metadata": {},
   "outputs": [
    {
     "name": "stdout",
     "output_type": "stream",
     "text": [
      "                       Generalized Linear Model Regression Results                       \n",
      "=========================================================================================\n",
      "Dep. Variable:     ['지연여부[False]', '지연여부[True]']   No. Observations:              6600841\n",
      "Model:                                       GLM   Df Residuals:                  6600820\n",
      "Model Family:                           Binomial   Df Model:                           20\n",
      "Link Function:                             logit   Scale:                          1.0000\n",
      "Method:                                     IRLS   Log-Likelihood:            -4.1475e+06\n",
      "Date:                           Mon, 06 Apr 2020   Deviance:                   8.2949e+06\n",
      "Time:                                   13:28:09   Pearson chi2:                 6.60e+06\n",
      "No. Iterations:                                5                                         \n",
      "Covariance Type:                       nonrobust                                         \n",
      "===============================================================================\n",
      "                  coef    std err          z      P>|z|      [0.025      0.975]\n",
      "-------------------------------------------------------------------------------\n",
      "Intercept      -0.6396      0.009    -71.796      0.000      -0.657      -0.622\n",
      "시간[T.10~11]    -0.1446      0.010    -14.943      0.000      -0.164      -0.126\n",
      "시간[T.11~12]     0.2299      0.010     23.836      0.000       0.211       0.249\n",
      "시간[T.12~13]     0.3862      0.010     40.066      0.000       0.367       0.405\n",
      "시간[T.13~14]     0.2554      0.010     26.456      0.000       0.237       0.274\n",
      "시간[T.14~15]     0.2019      0.010     20.907      0.000       0.183       0.221\n",
      "시간[T.15~16]     0.1568      0.010     16.280      0.000       0.138       0.176\n",
      "시간[T.16~17]     0.0366      0.010      3.797      0.000       0.018       0.056\n",
      "시간[T.17~18]    -0.1769      0.010    -18.469      0.000      -0.196      -0.158\n",
      "시간[T.18~19]    -0.4747      0.010    -49.509      0.000      -0.493      -0.456\n",
      "시간[T.19~20]    -0.6122      0.010    -63.533      0.000      -0.631      -0.593\n",
      "시간[T.1~2]      -1.2322      0.380     -3.244      0.001      -1.977      -0.488\n",
      "시간[T.20~21]    -0.4201      0.010    -43.700      0.000      -0.439      -0.401\n",
      "시간[T.21~22]    -0.2432      0.010    -25.283      0.000      -0.262      -0.224\n",
      "시간[T.22~23]     0.1236      0.010     12.813      0.000       0.105       0.143\n",
      "시간[T.23~24]     0.1807      0.010     18.399      0.000       0.161       0.200\n",
      "시간[T.5~6]       1.1239      0.010    109.630      0.000       1.104       1.144\n",
      "시간[T.6~7]       0.5312      0.010     55.830      0.000       0.513       0.550\n",
      "시간[T.7~8]       0.1412      0.009     14.986      0.000       0.123       0.160\n",
      "시간[T.8~9]      -0.2879      0.010    -30.293      0.000      -0.307      -0.269\n",
      "시간[T.9~10]     -0.3268      0.010    -34.036      0.000      -0.346      -0.308\n",
      "===============================================================================\n"
     ]
    }
   ],
   "source": [
    "glm_fit = smf.glm(formula='지연여부 ~ 시간', data=data, family=sm.families.Binomial()).fit()\n",
    "print(glm_fit.summary())"
   ]
  },
  {
   "cell_type": "markdown",
   "metadata": {},
   "source": [
    "상대적으로 출퇴근시간에 많은 영향력이 있음을 알 수 있다"
   ]
  },
  {
   "cell_type": "markdown",
   "metadata": {},
   "source": [
    "# 기온과 지연"
   ]
  },
  {
   "cell_type": "code",
   "execution_count": 64,
   "metadata": {
    "colab": {
     "base_uri": "https://localhost:8080/",
     "height": 354
    },
    "colab_type": "code",
    "executionInfo": {
     "elapsed": 1575,
     "status": "ok",
     "timestamp": 1583435493765,
     "user": {
      "displayName": "최승희",
      "photoUrl": "",
      "userId": "06402592860984448418"
     },
     "user_tz": -540
    },
    "id": "y-fPmA62Gfuq",
    "outputId": "1e0ac11e-60c6-41f0-a7f8-08b2ce43306b"
   },
   "outputs": [
    {
     "data": {
      "text/plain": [
       "Text(0.5, 1.0, '기온 vs 지연여부')"
      ]
     },
     "execution_count": 64,
     "metadata": {},
     "output_type": "execute_result"
    },
    {
     "data": {
      "image/png": "[encoded data removed]",
      "text/plain": [
       "<Figure size 720x360 with 1 Axes>"
      ]
     },
     "metadata": {
      "needs_background": "light"
     },
     "output_type": "display_data"
    }
   ],
   "source": [
    "plt.figure(figsize = (10,5))\n",
    "sns.boxplot(y = data['기온(°C)'], x = data['지연여부'])\n",
    "plt.title('기온 vs 지연여부')"
   ]
  },
  {
   "cell_type": "markdown",
   "metadata": {
    "colab": {},
    "colab_type": "code",
    "id": "5lGv1_XONH5y"
   },
   "source": [
    "### 기온이 지연여부에 영향을 주는가?"
   ]
  },
  {
   "cell_type": "code",
   "execution_count": 109,
   "metadata": {},
   "outputs": [],
   "source": [
    "delay1 = data.loc[data['지연여부'] == 1, '기온(°C)']\n",
    "delay0 = data.loc[data['지연여부'] == 0, '기온(°C)']"
   ]
  },
  {
   "cell_type": "code",
   "execution_count": 110,
   "metadata": {
    "scrolled": true
   },
   "outputs": [
    {
     "data": {
      "text/plain": [
       "0          14.5\n",
       "1          14.5\n",
       "2          14.5\n",
       "3          14.5\n",
       "4          14.5\n",
       "           ... \n",
       "7313680     9.2\n",
       "7313681     9.2\n",
       "7313682     9.2\n",
       "7313683     9.2\n",
       "7313684     9.2\n",
       "Name: 기온(°C), Length: 4336221, dtype: float64"
      ]
     },
     "execution_count": 110,
     "metadata": {},
     "output_type": "execute_result"
    }
   ],
   "source": [
    "delay1"
   ]
  },
  {
   "cell_type": "code",
   "execution_count": 111,
   "metadata": {},
   "outputs": [
    {
     "data": {
      "text/plain": [
       "16         14.5\n",
       "17         14.5\n",
       "18         14.5\n",
       "19         14.5\n",
       "20         14.5\n",
       "           ... \n",
       "7313072     6.9\n",
       "7313073     6.9\n",
       "7313074     6.9\n",
       "7313075     6.9\n",
       "7313076     6.9\n",
       "Name: 기온(°C), Length: 2264620, dtype: float64"
      ]
     },
     "execution_count": 111,
     "metadata": {},
     "output_type": "execute_result"
    }
   ],
   "source": [
    "delay0"
   ]
  },
  {
   "cell_type": "markdown",
   "metadata": {},
   "source": [
    "- 등분산 검정"
   ]
  },
  {
   "cell_type": "code",
   "execution_count": 112,
   "metadata": {},
   "outputs": [
    {
     "data": {
      "text/plain": [
       "<matplotlib.axes._subplots.AxesSubplot at 0x27692a1c608>"
      ]
     },
     "execution_count": 112,
     "metadata": {},
     "output_type": "execute_result"
    },
    {
     "data": {
      "image/png": "[encoded data removed]",
      "text/plain": [
       "<Figure size 432x288 with 1 Axes>"
      ]
     },
     "metadata": {
      "needs_background": "light"
     },
     "output_type": "display_data"
    }
   ],
   "source": [
    "sns.distplot(delay1)\n",
    "sns.distplot(delay0)"
   ]
  },
  {
   "cell_type": "code",
   "execution_count": 113,
   "metadata": {},
   "outputs": [
    {
     "data": {
      "text/plain": [
       "BartlettResult(statistic=3977.7847419828095, pvalue=0.0)"
      ]
     },
     "execution_count": 113,
     "metadata": {},
     "output_type": "execute_result"
    }
   ],
   "source": [
    "stats.bartlett(delay1, delay0)"
   ]
  },
  {
   "cell_type": "code",
   "execution_count": 114,
   "metadata": {
    "scrolled": true
   },
   "outputs": [
    {
     "data": {
      "text/plain": [
       "LeveneResult(statistic=7006.369083767505, pvalue=0.0)"
      ]
     },
     "execution_count": 114,
     "metadata": {},
     "output_type": "execute_result"
    }
   ],
   "source": [
    "stats.levene(delay1, delay0)"
   ]
  },
  {
   "cell_type": "markdown",
   "metadata": {},
   "source": [
    "등분산을 만족하지 않음"
   ]
  },
  {
   "cell_type": "markdown",
   "metadata": {},
   "source": [
    "- t-test"
   ]
  },
  {
   "cell_type": "markdown",
   "metadata": {},
   "source": [
    "대립가설: 기온이 지연여부에 영향을 줄 것이다.\n",
    "\n",
    "귀무가설: 기온이 지연여부에 영향을 주지 않는다."
   ]
  },
  {
   "cell_type": "code",
   "execution_count": 115,
   "metadata": {
    "scrolled": true
   },
   "outputs": [
    {
     "name": "stdout",
     "output_type": "stream",
     "text": [
      "t statistic : -5.041 \n",
      "p-value : 0.000\n"
     ]
    }
   ],
   "source": [
    "result = stats.ttest_ind(delay1, delay0, equal_var=False) \n",
    "print('t statistic : %.3f \\np-value : %.3f' % (result))"
   ]
  },
  {
   "cell_type": "markdown",
   "metadata": {},
   "source": [
    "귀무가설을 기각하므로, 기온이 지연여부에 어느정도 영향을 준다고 할 수 있다"
   ]
  }
 ],
 "metadata": {
  "accelerator": "TPU",
  "colab": {
   "collapsed_sections": [],
   "machine_shape": "hm",
   "name": "팀프로젝트_1호선지연예측_EDA.ipynb",
   "provenance": [],
   "toc_visible": true
  },
  "kernelspec": {
   "display_name": "Python 3",
   "language": "python",
   "name": "python3"
  },
  "language_info": {
   "codemirror_mode": {
    "name": "ipython",
    "version": 3
   },
   "file_extension": ".py",
   "mimetype": "text/x-python",
   "name": "python",
   "nbconvert_exporter": "python",
   "pygments_lexer": "ipython3",
   "version": "3.7.4"
  }
 },
 "nbformat": 4,
 "nbformat_minor": 1
}
